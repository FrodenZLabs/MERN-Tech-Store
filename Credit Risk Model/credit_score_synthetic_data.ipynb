{
 "cells": [
  {
   "cell_type": "code",
   "execution_count": 25,
   "metadata": {},
   "outputs": [],
   "source": [
    "import numpy as np\n",
    "import pandas as pd"
   ]
  },
  {
   "cell_type": "code",
   "execution_count": 26,
   "metadata": {},
   "outputs": [],
   "source": [
    "# Configuration\n",
    "NUM_SAMPLES = 20000  # Adjust as needed\n",
    "BASE_SCORE = 650      # Mid-range FICO score for scaling\n",
    "RANDOM_SEED = 42\n",
    "np.random.seed(RANDOM_SEED)"
   ]
  },
  {
   "cell_type": "code",
   "execution_count": 27,
   "metadata": {},
   "outputs": [],
   "source": [
    "# Feature configurations (questions, answers, probabilities, and score impacts)\n",
    "feature_config = {\n",
    "    # Payment History (Weight: 40%)\n",
    "    \"utility_bill_payment\": {\n",
    "        \"options\": [\"Always on time\", \"Occasionally late\", \"Frequently late\", \"Never paid\"],\n",
    "        \"prob\": [0.6, 0.25, 0.1, 0.05],  # Most pay on time\n",
    "        \"score_impact\": [40, -20, -60, -100]  # Strongest impact\n",
    "    },\n",
    "    \"service_deposit_required\": {\n",
    "        \"options\": [\"No\", \"Yes, but refunded\", \"Yes, not refunded\"],\n",
    "        \"prob\": [0.7, 0.2, 0.1],\n",
    "        \"score_impact\": [30, -10, -50]\n",
    "    },\n",
    "\n",
    "    # Financial Management (Weight: 30%)\n",
    "    \"debt_collection_history\": {\n",
    "        \"options\": [\"No\", \"Yes, once\", \"Yes, more than once\"],\n",
    "        \"prob\": [0.75, 0.2, 0.05],\n",
    "        \"score_impact\": [30, -40, -80]\n",
    "    },\n",
    "    \"savings_account\": {\n",
    "        \"options\": [\"Yes, sufficient\", \"Yes, but limited\", \"No\"],\n",
    "        \"prob\": [0.3, 0.4, 0.3],\n",
    "        \"score_impact\": [30, 10, -20]\n",
    "    },\n",
    "\n",
    "    # Income Stability (Weight: 15%)\n",
    "    \"employment_tenure\": {\n",
    "        \"options\": [\"Less than 6 months\", \"6 months to 1 year\", \"1 to 3 years\", \"Over 3 years\"],\n",
    "        \"prob\": [0.2, 0.3, 0.3, 0.2],\n",
    "        \"score_impact\": [-20, 0, 20, 40]\n",
    "    },\n",
    "    \"additional_income\": {\n",
    "        \"options\": [\"No\", \"Yes, occasionally\", \"Yes, regularly\"],\n",
    "        \"prob\": [0.5, 0.3, 0.2],\n",
    "        \"score_impact\": [-10, 10, 20]\n",
    "    },\n",
    "\n",
    "    # Housing Stability (Weight: 10%)\n",
    "    \"housing_status\": {\n",
    "        \"options\": [\"Own\", \"Rent\", \"Live with family/friends\"],\n",
    "        \"prob\": [0.4, 0.5, 0.1],\n",
    "        \"score_impact\": [20, 0, -15]\n",
    "    },\n",
    "    \"eviction_history\": {\n",
    "        \"options\": [\"No\", \"Yes, once\", \"Yes, more than once\"],\n",
    "        \"prob\": [0.85, 0.1, 0.05],\n",
    "        \"score_impact\": [10, -30, -60]\n",
    "    },\n",
    "\n",
    "    # Social/Community (Weight: 5%)\n",
    "    \"community_savings_group\": {\n",
    "        \"options\": [\"Yes, active member\", \"Yes, inactive member\", \"No\"],\n",
    "        \"prob\": [0.2, 0.2, 0.6],\n",
    "        \"score_impact\": [15, 5, -5]\n",
    "    },\n",
    "    \"mobile_money_account\": {\n",
    "        \"options\": [\"Yes, actively used\", \"Yes, rarely used\", \"No\"],\n",
    "        \"prob\": [0.6, 0.3, 0.1],\n",
    "        \"score_impact\": [10, 5, -10]\n",
    "    }\n",
    "}"
   ]
  },
  {
   "cell_type": "code",
   "execution_count": 28,
   "metadata": {},
   "outputs": [],
   "source": [
    "# Generate synthetic data\n",
    "data = {}"
   ]
  },
  {
   "cell_type": "code",
   "execution_count": 29,
   "metadata": {},
   "outputs": [],
   "source": [
    "for feature, config in feature_config.items():\n",
    "    data[feature] = np.random.choice(\n",
    "        config[\"options\"],\n",
    "        size=NUM_SAMPLES,\n",
    "        p=config[\"prob\"]\n",
    "    )"
   ]
  },
  {
   "cell_type": "code",
   "execution_count": 30,
   "metadata": {},
   "outputs": [],
   "source": [
    "# Calculate credit score based on weighted impacts\n",
    "score_impacts = np.zeros(NUM_SAMPLES)"
   ]
  },
  {
   "cell_type": "code",
   "execution_count": 31,
   "metadata": {},
   "outputs": [],
   "source": [
    "for feature, config in feature_config.items():\n",
    "    impact_map = {opt: imp for opt, imp in zip(config[\"options\"], config[\"score_impact\"])}\n",
    "    score_impacts += [impact_map[val] for val in data[feature]]"
   ]
  },
  {
   "cell_type": "code",
   "execution_count": 32,
   "metadata": {},
   "outputs": [],
   "source": [
    "# Scale to FICO-like range (300-850)\n",
    "min_impact = sum(min(c[\"score_impact\"]) for c in feature_config.values())  # Theoretical min\n",
    "max_impact = sum(max(c[\"score_impact\"]) for c in feature_config.values())  # Theoretical max"
   ]
  },
  {
   "cell_type": "code",
   "execution_count": 33,
   "metadata": {},
   "outputs": [],
   "source": [
    "# Normalize and add noise for realism\n",
    "data[\"credit_score\"] = np.interp(\n",
    "    score_impacts,\n",
    "    [min_impact, max_impact],\n",
    "    [300, 850]\n",
    ").astype(int) + np.random.normal(0, 15, NUM_SAMPLES).astype(int)"
   ]
  },
  {
   "cell_type": "code",
   "execution_count": 34,
   "metadata": {},
   "outputs": [],
   "source": [
    "# Create DataFrame\n",
    "df = pd.DataFrame(data)"
   ]
  },
  {
   "cell_type": "code",
   "execution_count": 35,
   "metadata": {},
   "outputs": [],
   "source": [
    "df.to_csv(\"credit_score_dataset.csv\", index=False)"
   ]
  }
 ],
 "metadata": {
  "kernelspec": {
   "display_name": ".venv",
   "language": "python",
   "name": "python3"
  },
  "language_info": {
   "codemirror_mode": {
    "name": "ipython",
    "version": 3
   },
   "file_extension": ".py",
   "mimetype": "text/x-python",
   "name": "python",
   "nbconvert_exporter": "python",
   "pygments_lexer": "ipython3",
   "version": "3.13.1"
  }
 },
 "nbformat": 4,
 "nbformat_minor": 2
}
